{
 "cells": [
  {
   "cell_type": "markdown",
   "metadata": {},
   "source": [
    "Importing basic functions"
   ]
  },
  {
   "cell_type": "code",
   "execution_count": 1,
   "metadata": {
    "collapsed": true
   },
   "outputs": [],
   "source": [
    "import pandas as pd\n",
    "import numpy as np"
   ]
  },
  {
   "cell_type": "code",
   "execution_count": 2,
   "metadata": {
    "collapsed": true
   },
   "outputs": [],
   "source": [
    "full = pd.read_csv('IL-clean.csv',low_memory = False)"
   ]
  },
  {
   "cell_type": "code",
   "execution_count": 3,
   "metadata": {
    "collapsed": true
   },
   "outputs": [],
   "source": [
    "df_columns=['n_stops','n_searches','n_hits','search_rate','hit_rate'] # the columns of our dataframes\n",
    "\n",
    "def SummaryStats(df,label):\n",
    "    # given an input dataframe of policing data, it will return a dataframe with its overall stats summarized \n",
    "    # with the index 'label'\n",
    "    n_stops = df.shape[0]\n",
    "    n_searches = df['search_conducted'].sum()\n",
    "    n_hits = df['contraband_found'].sum()\n",
    "    search_rate = n_searches / max([n_stops,1])\n",
    "    hit_rate = n_hits / max([n_searches,1])\n",
    "    td={'n_stops' : n_stops, 'n_searches' : n_searches, 'n_hits' : n_hits, 'search_rate' : search_rate,'hit_rate' : hit_rate}\n",
    "    return pd.DataFrame(data=td,index=[label],columns=['n_stops','n_searches','n_hits','search_rate','hit_rate'])"
   ]
  },
  {
   "cell_type": "code",
   "execution_count": 4,
   "metadata": {},
   "outputs": [
    {
     "data": {
      "text/plain": [
       "Index(['id', 'state', 'stop_date', 'stop_time', 'location_raw', 'county_name',\n",
       "       'county_fips', 'fine_grained_location', 'police_department',\n",
       "       'driver_gender', 'driver_age_raw', 'driver_age', 'driver_race_raw',\n",
       "       'driver_race', 'violation_raw', 'violation', 'search_conducted',\n",
       "       'search_type_raw', 'search_type', 'contraband_found', 'stop_outcome',\n",
       "       'is_arrested', 'stop_duration', 'vehicle_type', 'drugs_related_stop',\n",
       "       'district'],\n",
       "      dtype='object')"
      ]
     },
     "execution_count": 4,
     "metadata": {},
     "output_type": "execute_result"
    }
   ],
   "source": [
    "full.columns"
   ]
  },
  {
   "cell_type": "code",
   "execution_count": 5,
   "metadata": {
    "collapsed": true
   },
   "outputs": [],
   "source": [
    "df_columns=['gender','age','n_stops','n_searches','n_hits','search_rate','hit_rate'] # the columns of our dataframes\n",
    "\n",
    "ages = pd.to_numeric(full['driver_age']) # extract the ages from the original dataframe\n",
    "\n",
    "# initializing the dataframes\n",
    "gender_data = pd.DataFrame(columns = df_columns)\n",
    "\n",
    "# filling in all of the data\n",
    "for i in range(16, 81):\n",
    "    temp_data = full[full['driver_age']==i]\n",
    "    temp1 = SummaryStats(temp_data[temp_data['driver_gender']=='M'], str(i) +' Year Old Men')\n",
    "    temp1['gender']='M'\n",
    "    temp1['age']=i\n",
    "    gender_data = gender_data.append(temp1[gender_data.columns])\n",
    "    temp1 = SummaryStats(temp_data[temp_data['driver_gender']=='F'], str(i) +' Year Old Women')\n",
    "    temp1['gender']='F'\n",
    "    temp1['age']=i\n",
    "    gender_data = gender_data.append(temp1[gender_data.columns])"
   ]
  },
  {
   "cell_type": "code",
   "execution_count": 6,
   "metadata": {
    "collapsed": true
   },
   "outputs": [],
   "source": [
    "# initialize the dataframe and stats\n",
    "LocationStops = pd.DataFrame(columns=['race','district_number','n_stops','n_searches','n_hits','dis_search','search_rate','dis_hit','hit_rate'])\n",
    "tot_stops = []\n",
    "tot_searches = []\n",
    "\n",
    "# set the districts and races we will look at\n",
    "districts = ['01','02','03','05','06','07','08','09','10','11','12','13','14','15','16','17','18','19','20','21','22']\n",
    "races = ['White','Black','Hispanic','Asian']\n",
    "\n",
    "for i in districts:\n",
    "    district = 'ILLINOIS STATE POLICE ' + i # get the district string\n",
    "    \n",
    "    # get the district data\n",
    "    district_data = full[(full['district']==district)]\n",
    "    \n",
    "    # get general stats about that district\n",
    "    overall = SummaryStats(district_data, i)\n",
    "    overallhit = overall.get_value(overall.index[0], 'hit_rate')\n",
    "    overallsearch = overall.get_value(overall.index[0], 'search_rate')\n",
    "    tot_stops.append(overall.get_value(overall.index[0], 'n_stops'))\n",
    "    tot_searches.append(overall.get_value(overall.index[0], 'n_searches'))\n",
    "    \n",
    "    # iterate through the races\n",
    "    for race in races:\n",
    "        # get the stats\n",
    "        temp = SummaryStats(district_data[district_data['driver_race']==race], race + ' in District ' + i)\n",
    "        \n",
    "        # add information about the data used\n",
    "        temp['race'] = race\n",
    "        temp['district_number'] = i\n",
    "        temp['dis_search'] = overallsearch\n",
    "        temp['dis_hit'] = overallhit\n",
    "        \n",
    "        # add it to the dataframe and keep the column order the same\n",
    "        LocationStops = LocationStops.append(temp)[LocationStops.columns]"
   ]
  },
  {
   "cell_type": "code",
   "execution_count": 7,
   "metadata": {
    "collapsed": true
   },
   "outputs": [],
   "source": [
    "# initialize the dataframe and stats\n",
    "bigdata = pd.DataFrame(columns=['age','race','gender','district_number','n_stops','n_searches','n_hits','search_rate','dis_search','hit_rate','dis_hit'])\n",
    "\n",
    "# set the districts and races we will look at\n",
    "districts = ['01','02','03','05','06','07','08','09','10','11','12','13','14','15','16','17','18','19','20','21','22']\n",
    "races = ['White','Black','Hispanic']\n",
    "\n",
    "for i in districts:\n",
    "    district = 'ILLINOIS STATE POLICE ' + i # get the district string\n",
    "    # get the district data\n",
    "    district_data = full[full['district']==district]\n",
    "    district_info = SummaryStats(district_data,'tempdis')\n",
    "    districthit = district_info.get_value(district_info.index[0], 'hit_rate')\n",
    "    districtsearch = district_info.get_value(district_info.index[0], 'search_rate')\n",
    "    # iterate through the ages\n",
    "    for age in range(6):\n",
    "        district_age_data = district_data[(district_data['driver_age'] >= age*10+16) & (district_data['driver_age'] < (age+1)*10+16)]\n",
    "        for race in races:\n",
    "            district_age_race_data = district_age_data[district_age_data['driver_race']==race]\n",
    "            tempm=SummaryStats(district_age_race_data[district_age_race_data['driver_gender']=='M'],  str(age*10+16) +' to '+str((age+1)*10+15)+' Year Old ' + race+ ' Men in District '+i)\n",
    "            tempm['race'] = race\n",
    "            tempm['district_number']=i\n",
    "            tempm['age'] = age*10 + 20.5\n",
    "            tempm['gender'] = 'M'\n",
    "            tempm['dis_hit'] = districthit\n",
    "            tempm['dis_search'] = districtsearch\n",
    "            bigdata=bigdata.append(tempm)[bigdata.columns]\n",
    "            tempf=SummaryStats(district_age_race_data[district_age_race_data['driver_gender']=='F'], str(age*10+16) +' to '+str((age+1)*10+15)+' Year Old ' +race+ ' Women in District '+i)\n",
    "            tempf['race'] = race\n",
    "            tempf['district_number']=i\n",
    "            tempf['age'] = age*10 + 20.5\n",
    "            tempf['gender'] = 'F'\n",
    "            tempf['dis_hit'] = districthit\n",
    "            tempf['dis_search'] = districtsearch\n",
    "            bigdata=bigdata.append(tempf)[bigdata.columns]"
   ]
  },
  {
   "cell_type": "code",
   "execution_count": 8,
   "metadata": {},
   "outputs": [
    {
     "data": {
      "text/html": [
       "<div>\n",
       "<style>\n",
       "    .dataframe thead tr:only-child th {\n",
       "        text-align: right;\n",
       "    }\n",
       "\n",
       "    .dataframe thead th {\n",
       "        text-align: left;\n",
       "    }\n",
       "\n",
       "    .dataframe tbody tr th {\n",
       "        vertical-align: top;\n",
       "    }\n",
       "</style>\n",
       "<table border=\"1\" class=\"dataframe\">\n",
       "  <thead>\n",
       "    <tr style=\"text-align: right;\">\n",
       "      <th></th>\n",
       "      <th>gender</th>\n",
       "      <th>age</th>\n",
       "      <th>n_stops</th>\n",
       "      <th>n_searches</th>\n",
       "      <th>n_hits</th>\n",
       "      <th>search_rate</th>\n",
       "      <th>hit_rate</th>\n",
       "    </tr>\n",
       "  </thead>\n",
       "  <tbody>\n",
       "    <tr>\n",
       "      <th>16 Year Old Men</th>\n",
       "      <td>M</td>\n",
       "      <td>16</td>\n",
       "      <td>10389</td>\n",
       "      <td>367</td>\n",
       "      <td>96</td>\n",
       "      <td>0.035326</td>\n",
       "      <td>0.261580</td>\n",
       "    </tr>\n",
       "    <tr>\n",
       "      <th>16 Year Old Women</th>\n",
       "      <td>F</td>\n",
       "      <td>16</td>\n",
       "      <td>6129</td>\n",
       "      <td>125</td>\n",
       "      <td>49</td>\n",
       "      <td>0.020395</td>\n",
       "      <td>0.392000</td>\n",
       "    </tr>\n",
       "    <tr>\n",
       "      <th>17 Year Old Men</th>\n",
       "      <td>M</td>\n",
       "      <td>17</td>\n",
       "      <td>35375</td>\n",
       "      <td>1304</td>\n",
       "      <td>378</td>\n",
       "      <td>0.036862</td>\n",
       "      <td>0.289877</td>\n",
       "    </tr>\n",
       "    <tr>\n",
       "      <th>17 Year Old Women</th>\n",
       "      <td>F</td>\n",
       "      <td>17</td>\n",
       "      <td>20699</td>\n",
       "      <td>398</td>\n",
       "      <td>128</td>\n",
       "      <td>0.019228</td>\n",
       "      <td>0.321608</td>\n",
       "    </tr>\n",
       "    <tr>\n",
       "      <th>18 Year Old Men</th>\n",
       "      <td>M</td>\n",
       "      <td>18</td>\n",
       "      <td>66488</td>\n",
       "      <td>3237</td>\n",
       "      <td>941</td>\n",
       "      <td>0.048685</td>\n",
       "      <td>0.290701</td>\n",
       "    </tr>\n",
       "  </tbody>\n",
       "</table>\n",
       "</div>"
      ],
      "text/plain": [
       "                  gender age n_stops n_searches n_hits  search_rate  hit_rate\n",
       "16 Year Old Men        M  16   10389        367     96     0.035326  0.261580\n",
       "16 Year Old Women      F  16    6129        125     49     0.020395  0.392000\n",
       "17 Year Old Men        M  17   35375       1304    378     0.036862  0.289877\n",
       "17 Year Old Women      F  17   20699        398    128     0.019228  0.321608\n",
       "18 Year Old Men        M  18   66488       3237    941     0.048685  0.290701"
      ]
     },
     "execution_count": 8,
     "metadata": {},
     "output_type": "execute_result"
    }
   ],
   "source": [
    "gender_data.head()"
   ]
  },
  {
   "cell_type": "code",
   "execution_count": null,
   "metadata": {
    "collapsed": true
   },
   "outputs": [],
   "source": []
  }
 ],
 "metadata": {
  "kernelspec": {
   "display_name": "Python 2",
   "language": "python",
   "name": "python2"
  },
  "language_info": {
   "codemirror_mode": {
    "name": "ipython",
    "version": 2
   },
   "file_extension": ".py",
   "mimetype": "text/x-python",
   "name": "python",
   "nbconvert_exporter": "python",
   "pygments_lexer": "ipython2",
   "version": "2.7.12"
  }
 },
 "nbformat": 4,
 "nbformat_minor": 2
}
